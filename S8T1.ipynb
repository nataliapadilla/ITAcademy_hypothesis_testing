{
 "cells": [
  {
   "cell_type": "markdown",
   "id": "36532ccb",
   "metadata": {},
   "source": [
    "# Tasca del test d'hipòtesis"
   ]
  },
  {
   "cell_type": "code",
   "execution_count": 1,
   "id": "beeeb316",
   "metadata": {},
   "outputs": [],
   "source": [
    "import pandas as pd\n",
    "from scipy import stats\n",
    "import seaborn as sns"
   ]
  },
  {
   "cell_type": "markdown",
   "id": "b015db7b",
   "metadata": {},
   "source": [
    "## Exercici 1"
   ]
  },
  {
   "cell_type": "markdown",
   "id": "ea5c0954",
   "metadata": {},
   "source": [
    "Agafa un conjunt de dades de tema esportiu que t'agradi i selecciona un atribut del conjunt de dades. Calcula el p-valor i digues si rebutja la hipòtesi nul·la agafant un alfa de 5%. "
   ]
  },
  {
   "cell_type": "markdown",
   "id": "e3d82895",
   "metadata": {},
   "source": [
    "The selected dataset is [120 years of Olympic history: athletes and results](https://www.kaggle.com/heesoo37/120-years-of-olympic-history-athletes-and-results) which collects the athletes participating in the modern Olympic Games from Athens 1896 to Rio 2016. It has de following columns:\n",
    "1. **ID**: unique numeric identifier for each athlete\n",
    "2. **Name**: name of the athlete\n",
    "3. **Sex**: masculine (M) of femenine (F) sex of the athlete\n",
    "4. **Age**: age of the athlete\n",
    "5. **Height**: height in centimeters\n",
    "6. **Weight**: weight in kilograms\n",
    "7. **Team**: team name\n",
    "8. **NOC**: national olumpic comitte (3 letter code)\n",
    "9. **Games**: year and season of the olympic games\n",
    "10. **Year**: year of the olympic games\n",
    "11. **Season**: season of the olympic games (summer or winter)\n",
    "12. **City**: host city of the olympic games\n",
    "13. **Sport**: sport\n",
    "14. **Event**: event\n",
    "15. **Medal**: won medal: gold, silver, bronze or NA"
   ]
  },
  {
   "cell_type": "code",
   "execution_count": 2,
   "id": "cacc681f",
   "metadata": {},
   "outputs": [],
   "source": [
    "# Load the dataset\n",
    "df = pd.read_csv('athlete_events.csv')"
   ]
  },
  {
   "cell_type": "code",
   "execution_count": 3,
   "id": "f31afef8",
   "metadata": {},
   "outputs": [
    {
     "data": {
      "text/html": [
       "<div>\n",
       "<style scoped>\n",
       "    .dataframe tbody tr th:only-of-type {\n",
       "        vertical-align: middle;\n",
       "    }\n",
       "\n",
       "    .dataframe tbody tr th {\n",
       "        vertical-align: top;\n",
       "    }\n",
       "\n",
       "    .dataframe thead th {\n",
       "        text-align: right;\n",
       "    }\n",
       "</style>\n",
       "<table border=\"1\" class=\"dataframe\">\n",
       "  <thead>\n",
       "    <tr style=\"text-align: right;\">\n",
       "      <th></th>\n",
       "      <th>ID</th>\n",
       "      <th>Name</th>\n",
       "      <th>Sex</th>\n",
       "      <th>Age</th>\n",
       "      <th>Height</th>\n",
       "      <th>Weight</th>\n",
       "      <th>Team</th>\n",
       "      <th>NOC</th>\n",
       "      <th>Games</th>\n",
       "      <th>Year</th>\n",
       "      <th>Season</th>\n",
       "      <th>City</th>\n",
       "      <th>Sport</th>\n",
       "      <th>Event</th>\n",
       "      <th>Medal</th>\n",
       "    </tr>\n",
       "  </thead>\n",
       "  <tbody>\n",
       "    <tr>\n",
       "      <th>0</th>\n",
       "      <td>1</td>\n",
       "      <td>A Dijiang</td>\n",
       "      <td>M</td>\n",
       "      <td>24.0</td>\n",
       "      <td>180.0</td>\n",
       "      <td>80.0</td>\n",
       "      <td>China</td>\n",
       "      <td>CHN</td>\n",
       "      <td>1992 Summer</td>\n",
       "      <td>1992</td>\n",
       "      <td>Summer</td>\n",
       "      <td>Barcelona</td>\n",
       "      <td>Basketball</td>\n",
       "      <td>Basketball Men's Basketball</td>\n",
       "      <td>NaN</td>\n",
       "    </tr>\n",
       "    <tr>\n",
       "      <th>1</th>\n",
       "      <td>2</td>\n",
       "      <td>A Lamusi</td>\n",
       "      <td>M</td>\n",
       "      <td>23.0</td>\n",
       "      <td>170.0</td>\n",
       "      <td>60.0</td>\n",
       "      <td>China</td>\n",
       "      <td>CHN</td>\n",
       "      <td>2012 Summer</td>\n",
       "      <td>2012</td>\n",
       "      <td>Summer</td>\n",
       "      <td>London</td>\n",
       "      <td>Judo</td>\n",
       "      <td>Judo Men's Extra-Lightweight</td>\n",
       "      <td>NaN</td>\n",
       "    </tr>\n",
       "    <tr>\n",
       "      <th>2</th>\n",
       "      <td>3</td>\n",
       "      <td>Gunnar Nielsen Aaby</td>\n",
       "      <td>M</td>\n",
       "      <td>24.0</td>\n",
       "      <td>NaN</td>\n",
       "      <td>NaN</td>\n",
       "      <td>Denmark</td>\n",
       "      <td>DEN</td>\n",
       "      <td>1920 Summer</td>\n",
       "      <td>1920</td>\n",
       "      <td>Summer</td>\n",
       "      <td>Antwerpen</td>\n",
       "      <td>Football</td>\n",
       "      <td>Football Men's Football</td>\n",
       "      <td>NaN</td>\n",
       "    </tr>\n",
       "    <tr>\n",
       "      <th>3</th>\n",
       "      <td>4</td>\n",
       "      <td>Edgar Lindenau Aabye</td>\n",
       "      <td>M</td>\n",
       "      <td>34.0</td>\n",
       "      <td>NaN</td>\n",
       "      <td>NaN</td>\n",
       "      <td>Denmark/Sweden</td>\n",
       "      <td>DEN</td>\n",
       "      <td>1900 Summer</td>\n",
       "      <td>1900</td>\n",
       "      <td>Summer</td>\n",
       "      <td>Paris</td>\n",
       "      <td>Tug-Of-War</td>\n",
       "      <td>Tug-Of-War Men's Tug-Of-War</td>\n",
       "      <td>Gold</td>\n",
       "    </tr>\n",
       "    <tr>\n",
       "      <th>4</th>\n",
       "      <td>5</td>\n",
       "      <td>Christine Jacoba Aaftink</td>\n",
       "      <td>F</td>\n",
       "      <td>21.0</td>\n",
       "      <td>185.0</td>\n",
       "      <td>82.0</td>\n",
       "      <td>Netherlands</td>\n",
       "      <td>NED</td>\n",
       "      <td>1988 Winter</td>\n",
       "      <td>1988</td>\n",
       "      <td>Winter</td>\n",
       "      <td>Calgary</td>\n",
       "      <td>Speed Skating</td>\n",
       "      <td>Speed Skating Women's 500 metres</td>\n",
       "      <td>NaN</td>\n",
       "    </tr>\n",
       "  </tbody>\n",
       "</table>\n",
       "</div>"
      ],
      "text/plain": [
       "   ID                      Name Sex   Age  Height  Weight            Team  \\\n",
       "0   1                 A Dijiang   M  24.0   180.0    80.0           China   \n",
       "1   2                  A Lamusi   M  23.0   170.0    60.0           China   \n",
       "2   3       Gunnar Nielsen Aaby   M  24.0     NaN     NaN         Denmark   \n",
       "3   4      Edgar Lindenau Aabye   M  34.0     NaN     NaN  Denmark/Sweden   \n",
       "4   5  Christine Jacoba Aaftink   F  21.0   185.0    82.0     Netherlands   \n",
       "\n",
       "   NOC        Games  Year  Season       City          Sport  \\\n",
       "0  CHN  1992 Summer  1992  Summer  Barcelona     Basketball   \n",
       "1  CHN  2012 Summer  2012  Summer     London           Judo   \n",
       "2  DEN  1920 Summer  1920  Summer  Antwerpen       Football   \n",
       "3  DEN  1900 Summer  1900  Summer      Paris     Tug-Of-War   \n",
       "4  NED  1988 Winter  1988  Winter    Calgary  Speed Skating   \n",
       "\n",
       "                              Event Medal  \n",
       "0       Basketball Men's Basketball   NaN  \n",
       "1      Judo Men's Extra-Lightweight   NaN  \n",
       "2           Football Men's Football   NaN  \n",
       "3       Tug-Of-War Men's Tug-Of-War  Gold  \n",
       "4  Speed Skating Women's 500 metres   NaN  "
      ]
     },
     "execution_count": 3,
     "metadata": {},
     "output_type": "execute_result"
    }
   ],
   "source": [
    "# View the dataset\n",
    "df.head()"
   ]
  },
  {
   "cell_type": "code",
   "execution_count": 4,
   "id": "bcc135b5",
   "metadata": {},
   "outputs": [
    {
     "name": "stdout",
     "output_type": "stream",
     "text": [
      "<class 'pandas.core.frame.DataFrame'>\n",
      "RangeIndex: 271116 entries, 0 to 271115\n",
      "Data columns (total 15 columns):\n",
      " #   Column  Non-Null Count   Dtype  \n",
      "---  ------  --------------   -----  \n",
      " 0   ID      271116 non-null  int64  \n",
      " 1   Name    271116 non-null  object \n",
      " 2   Sex     271116 non-null  object \n",
      " 3   Age     261642 non-null  float64\n",
      " 4   Height  210945 non-null  float64\n",
      " 5   Weight  208241 non-null  float64\n",
      " 6   Team    271116 non-null  object \n",
      " 7   NOC     271116 non-null  object \n",
      " 8   Games   271116 non-null  object \n",
      " 9   Year    271116 non-null  int64  \n",
      " 10  Season  271116 non-null  object \n",
      " 11  City    271116 non-null  object \n",
      " 12  Sport   271116 non-null  object \n",
      " 13  Event   271116 non-null  object \n",
      " 14  Medal   39783 non-null   object \n",
      "dtypes: float64(3), int64(2), object(10)\n",
      "memory usage: 31.0+ MB\n"
     ]
    }
   ],
   "source": [
    "df.info()"
   ]
  },
  {
   "cell_type": "code",
   "execution_count": 5,
   "id": "9c04d9ce",
   "metadata": {},
   "outputs": [
    {
     "data": {
      "image/png": "[encoded data removed]",
      "text/plain": [
       "<Figure size 432x288 with 1 Axes>"
      ]
     },
     "metadata": {
      "needs_background": "light"
     },
     "output_type": "display_data"
    }
   ],
   "source": [
    "# Histogram of athlete's heights\n",
    "sns.histplot(data=df, x='Height', binwidth=5);"
   ]
  },
  {
   "cell_type": "code",
   "execution_count": 6,
   "id": "d12cc32a",
   "metadata": {},
   "outputs": [
    {
     "data": {
      "text/plain": [
       "175.34"
      ]
     },
     "execution_count": 6,
     "metadata": {},
     "output_type": "execute_result"
    }
   ],
   "source": [
    "# Mean of athlete's heights\n",
    "round(df.Height.mean(), 2)"
   ]
  },
  {
   "cell_type": "markdown",
   "id": "4b6dad39",
   "metadata": {},
   "source": [
    "Hypothesis:\n",
    "- $H_0: \\mu_H = 175.34$  The average height of atheletes in the moderm Olympic Games is 175.34\n",
    "\n",
    "- $H_1: \\mu_H \\neq 175.34$ The average height of atheletes in the moderm Olympic Games is not 175.34"
   ]
  },
  {
   "cell_type": "code",
   "execution_count": 7,
   "id": "5ee00eb8",
   "metadata": {},
   "outputs": [
    {
     "name": "stdout",
     "output_type": "stream",
     "text": [
      "t-statistic:\t0.0\n",
      "p-value:\t1.0\n",
      "We cannot reject the null hypothesis\n"
     ]
    }
   ],
   "source": [
    "# T-test for the mean of one group\n",
    "alfa = 0.05\n",
    "t_statistic, p_value = stats.ttest_1samp(df.Height.dropna(), popmean=df.Height.mean(), alternative='two-sided')\n",
    "print(f't-statistic:\\t{t_statistic}')\n",
    "print(f'p-value:\\t{p_value}')\n",
    "print('We can reject the null hypothesis') if p_value < alfa else print('We cannot reject the null hypothesis')"
   ]
  },
  {
   "cell_type": "markdown",
   "id": "2c40ed14",
   "metadata": {},
   "source": [
    "Therefore, we can accept with an alfa level of 5% that the null hypothesis is true, that is, that the average height of the athletes is 175.34"
   ]
  },
  {
   "cell_type": "markdown",
   "id": "37662482",
   "metadata": {},
   "source": [
    "## Exercici 2"
   ]
  },
  {
   "cell_type": "markdown",
   "id": "5d14a0ec",
   "metadata": {},
   "source": [
    "Continua amb el conjunt de dades de tema esportiu que t'agradi i selecciona dos altres atributs del conjunt de dades. Calcula els p-valors i digues si rebutgen la hipòtesi nul·la agafant un alfa de 5%."
   ]
  },
  {
   "cell_type": "code",
   "execution_count": 8,
   "id": "d15c40df",
   "metadata": {},
   "outputs": [
    {
     "data": {
      "image/png": "[encoded data removed]",
      "text/plain": [
       "<Figure size 432x288 with 1 Axes>"
      ]
     },
     "metadata": {
      "needs_background": "light"
     },
     "output_type": "display_data"
    }
   ],
   "source": [
    "# Histogram of athlete's heights by sex\n",
    "sns.histplot(data=df, x='Height', hue='Sex', binwidth=5);"
   ]
  },
  {
   "cell_type": "code",
   "execution_count": 9,
   "id": "dd776899",
   "metadata": {},
   "outputs": [],
   "source": [
    "# Female and male heights\n",
    "female_heights = df[df.Sex == 'F'].Height.dropna()\n",
    "male_heights = df[df.Sex == 'M'].Height.dropna()"
   ]
  },
  {
   "cell_type": "markdown",
   "id": "060c38dc",
   "metadata": {},
   "source": [
    "Hypothesis:\n",
    "- $H_0: \\mu_M = \\mu_F$  The average height of male athletes is the same as female athletes\n",
    "\n",
    "- $H_1: \\mu_M \\neq \\mu_F$ The average height of male athletes is different from the female athletes"
   ]
  },
  {
   "cell_type": "code",
   "execution_count": 10,
   "id": "8b504983",
   "metadata": {},
   "outputs": [
    {
     "name": "stdout",
     "output_type": "stream",
     "text": [
      "t-statistic:\t-257.0759194444727\n",
      "p-value:\t0.0\n",
      "We can reject the null hypothesis\n"
     ]
    }
   ],
   "source": [
    "# T-test for the mean of two groups\n",
    "alfa = 0.05\n",
    "t_statistic, p_value = stats.ttest_ind(female_heights, male_heights, alternative='two-sided')\n",
    "print(f't-statistic:\\t{t_statistic}')\n",
    "print(f'p-value:\\t{p_value}')\n",
    "print('We can reject the null hypothesis') if p_value < alfa else print('We cannot reject the null hypothesis')"
   ]
  },
  {
   "cell_type": "markdown",
   "id": "a7021b58",
   "metadata": {},
   "source": [
    "Therefore, we can accept with an alfa level of 5% that the alternative hypothesis is true, that is, that the average height of male athletes is different from the females athletes."
   ]
  },
  {
   "cell_type": "markdown",
   "id": "2e1b2759",
   "metadata": {},
   "source": [
    "## Exercici 3 "
   ]
  },
  {
   "cell_type": "markdown",
   "id": "f02360c2",
   "metadata": {},
   "source": [
    "Continua amb el conjunt de dades de tema esportiu que t'agradi i selecciona tres atributs del conjunt de dades. Calcula el p-valor i digues si rebutja la hipòtesi nul·la agafant un alfa de 5%."
   ]
  },
  {
   "cell_type": "code",
   "execution_count": 11,
   "id": "3434f851",
   "metadata": {},
   "outputs": [],
   "source": [
    "# Selection of 3 sports\n",
    "df_sports3 = df[df.Sport.isin(['Athletics', 'Gymnastics', 'Basketball'])]"
   ]
  },
  {
   "cell_type": "code",
   "execution_count": 12,
   "id": "405d5e68",
   "metadata": {},
   "outputs": [
    {
     "data": {
      "image/png": "[encoded data removed]",
      "text/plain": [
       "<Figure size 432x288 with 1 Axes>"
      ]
     },
     "metadata": {
      "needs_background": "light"
     },
     "output_type": "display_data"
    }
   ],
   "source": [
    "# Histogram of athlete's heights by sport\n",
    "sns.histplot(data=df_sports3, x='Height', hue='Sport', binwidth=5);"
   ]
  },
  {
   "cell_type": "code",
   "execution_count": 13,
   "id": "9500b7d9",
   "metadata": {},
   "outputs": [],
   "source": [
    "# Athletics, Gymnastics and Basketball heights\n",
    "athletics_heights = df[df.Sport == 'Athletics'].Height.dropna()\n",
    "gymnastics_heights = df[df.Sport == 'Gymnastics'].Height.dropna()\n",
    "basketball_heights = df[df.Sport == 'Basketball'].Height.dropna()"
   ]
  },
  {
   "cell_type": "markdown",
   "id": "f9400c4d",
   "metadata": {},
   "source": [
    "Hypothesis:\n",
    "- $H_0: \\mu_A = \\mu_G = \\mu_B$  The average height of athletics, gymnastics and basketball players is the same\n",
    "\n",
    "- $H_1: \\mu_A \\neq \\mu_G \\neq \\mu_B$  The average height of athletics, gymnastics and basketball players is not the same"
   ]
  },
  {
   "cell_type": "code",
   "execution_count": 14,
   "id": "2cb1a3b9",
   "metadata": {},
   "outputs": [
    {
     "name": "stdout",
     "output_type": "stream",
     "text": [
      "F-statistic:\t-257.0759194444727\n",
      "p-value:\t0.0\n",
      "We can reject the null hypothesis\n"
     ]
    }
   ],
   "source": [
    "# ANOVA test for the mean of three groups\n",
    "alfa = 0.05\n",
    "anova_statistic, p_value = stats.f_oneway(athletics_heights, gymnastics_heights, basketball_heights)\n",
    "print(f'F-statistic:\\t{t_statistic}')\n",
    "print(f'p-value:\\t{p_value}')\n",
    "print('We can reject the null hypothesis') if p_value < alfa else print('We cannot reject the null hypothesis')"
   ]
  },
  {
   "cell_type": "markdown",
   "id": "f9601700",
   "metadata": {},
   "source": [
    "Therefore, we can accept with an alfa level of 5% that the alternative hypothesis is true, that is, that the average height of athletics, gymnastics and basketball players is not the same."
   ]
  },
  {
   "cell_type": "code",
   "execution_count": null,
   "id": "8b9285fc",
   "metadata": {},
   "outputs": [],
   "source": []
  }
 ],
 "metadata": {
  "kernelspec": {
   "display_name": "Python 3 (ipykernel)",
   "language": "python",
   "name": "python3"
  },
  "language_info": {
   "codemirror_mode": {
    "name": "ipython",
    "version": 3
   },
   "file_extension": ".py",
   "mimetype": "text/x-python",
   "name": "python",
   "nbconvert_exporter": "python",
   "pygments_lexer": "ipython3",
   "version": "3.9.6"
  }
 },
 "nbformat": 4,
 "nbformat_minor": 5
}
